{
 "cells": [
  {
   "cell_type": "code",
   "execution_count": 4,
   "id": "57a23db0-c136-4531-b68e-4a02be86b482",
   "metadata": {},
   "outputs": [],
   "source": [
    "# Project: Invoice  Generator for Small Business"
   ]
  },
  {
   "cell_type": "code",
   "execution_count": 3,
   "id": "4302b85d-f83a-4cc6-a4bd-57830dd58c5b",
   "metadata": {},
   "outputs": [
    {
     "name": "stdout",
     "output_type": "stream",
     "text": [
      "Welcome to the Invoice Generator!\n",
      "\n"
     ]
    },
    {
     "name": "stdin",
     "output_type": "stream",
     "text": [
      "Enter the customer name:  Riya Rawat\n",
      "Enter the customer email:  abc@gmail.com\n",
      "Enter product name (or type 'done' to finish):  Wheat\n",
      "Enter the price of Wheat: ₹ 60\n",
      "Enter quantity for Wheat:  2\n",
      "Enter product name (or type 'done' to finish):  done\n",
      "Enter discount percentage (if any, else 0):  0\n",
      "Enter tax percentage:  0.2\n"
     ]
    },
    {
     "name": "stdout",
     "output_type": "stream",
     "text": [
      "\n",
      "-------- INVOICE --------\n",
      "Customer: Riya Rawat\n",
      "Email: abc@gmail.com\n",
      "\n",
      "Items Purchased:\n",
      "Wheat - ₹60.0 x 2 = ₹120.0\n",
      "\n",
      "Discount Applied: 0.0%\n",
      "Tax Applied: 0.2%\n",
      "\n",
      "Total Price: ₹120.24\n",
      "\n",
      "------------------------\n"
     ]
    }
   ],
   "source": [
    "# Invoice Generator\n",
    "\n",
    "# Function to calculate the total price\n",
    "def calculate_total(items, discount=0, tax=0):\n",
    "    total_price = 0\n",
    "    for item in items:\n",
    "        total_price += item['price'] * item['quantity']\n",
    "    \n",
    "    # Apply discount if any\n",
    "    total_price -= total_price * (discount / 100)\n",
    "    \n",
    "    # Apply tax if any\n",
    "    total_price += total_price * (tax / 100)\n",
    "    \n",
    "    return total_price\n",
    "\n",
    "# Function to create the invoice\n",
    "def generate_invoice():\n",
    "    print(\"Welcome to the Invoice Generator!\\n\")\n",
    "    \n",
    "    # Get customer details\n",
    "    customer_name = input(\"Enter the customer name: \")\n",
    "    customer_email = input(\"Enter the customer email: \")\n",
    "    \n",
    "    # Get items details\n",
    "    items = []\n",
    "    while True:\n",
    "        product_name = input(\"Enter product name (or type 'done' to finish): \")\n",
    "        if product_name.lower() == 'done':\n",
    "            break\n",
    "        price = float(input(f\"Enter the price of {product_name}: ₹\"))\n",
    "        quantity = int(input(f\"Enter quantity for {product_name}: \"))\n",
    "        \n",
    "        items.append({'name': product_name, 'price': price, 'quantity': quantity})\n",
    "    \n",
    "    # Get discount and tax\n",
    "    discount = float(input(\"Enter discount percentage (if any, else 0): \"))\n",
    "    tax = float(input(\"Enter tax percentage: \"))\n",
    "    \n",
    "    # Calculate the total price\n",
    "    total_price = calculate_total(items, discount, tax)\n",
    "    \n",
    "    # Print the invoice\n",
    "    print(\"\\n-------- INVOICE --------\")\n",
    "    print(f\"Customer: {customer_name}\")\n",
    "    print(f\"Email: {customer_email}\")\n",
    "    print(\"\\nItems Purchased:\")\n",
    "    for item in items:\n",
    "        print(f\"{item['name']} - ₹{item['price']} x {item['quantity']} = ₹{item['price'] * item['quantity']}\")\n",
    "    \n",
    "    print(f\"\\nDiscount Applied: {discount}%\")\n",
    "    print(f\"Tax Applied: {tax}%\")\n",
    "    print(f\"\\nTotal Price: ₹{total_price:.2f}\")\n",
    "    print(\"\\n------------------------\")\n",
    "\n",
    "# Run the invoice generator\n",
    "if __name__ == \"__main__\":\n",
    "    generate_invoice()"
   ]
  },
  {
   "cell_type": "code",
   "execution_count": null,
   "id": "a9042163-c708-43a1-a0a1-eb584f7d52d8",
   "metadata": {},
   "outputs": [],
   "source": []
  }
 ],
 "metadata": {
  "kernelspec": {
   "display_name": "Python 3 (ipykernel)",
   "language": "python",
   "name": "python3"
  },
  "language_info": {
   "codemirror_mode": {
    "name": "ipython",
    "version": 3
   },
   "file_extension": ".py",
   "mimetype": "text/x-python",
   "name": "python",
   "nbconvert_exporter": "python",
   "pygments_lexer": "ipython3",
   "version": "3.12.4"
  }
 },
 "nbformat": 4,
 "nbformat_minor": 5
}
