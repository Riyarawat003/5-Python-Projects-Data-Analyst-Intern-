{
 "cells": [
  {
   "cell_type": "code",
   "execution_count": 1,
   "id": "b257b7ac-c9fc-470b-9d08-f9c6fd4a8478",
   "metadata": {},
   "outputs": [],
   "source": [
    "# Python program to create a simple calculator\n",
    "\n",
    "# 3 Steps to build calcultor program\n",
    "# 1. Functions for operations\n",
    "# 2. User Input\n",
    "# 3. Print result"
   ]
  },
  {
   "cell_type": "code",
   "execution_count": 2,
   "id": "a041958d-632f-48fa-8ccf-c7d5669d8b89",
   "metadata": {},
   "outputs": [],
   "source": [
    "# Step 1: Create Functions:\n",
    "# Functions to add two numbers\n",
    "def add(num1, num2):\n",
    "    return num1 + num2\n",
    "\n",
    "# Function to substract two numbers\n",
    "def sub(num1, num2):\n",
    "    return num1 - num2\n",
    "\n",
    "# Function to multiply two numbers\n",
    "def multiply(num1, num2):\n",
    "    return num1 * num2\n",
    "\n",
    "# Function to divide two numbers\n",
    "def divide(num1, num2):\n",
    "    return num1 / num2\n",
    "\n",
    "# Function to calculate avg of two numbers\n",
    "def avg(num1, num2):\n",
    "    return (num1 + num2) / 2"
   ]
  },
  {
   "cell_type": "code",
   "execution_count": 14,
   "id": "2e8e0dd3-b54a-4ef2-9c9f-cfabbe152b14",
   "metadata": {},
   "outputs": [
    {
     "name": "stdout",
     "output_type": "stream",
     "text": [
      "Please select a operation:\n",
      " 1. Addition\n",
      "2. Substraction\n",
      "3. Multiplication\n",
      "4. Division\n",
      "5. Average\n",
      "\n"
     ]
    },
    {
     "name": "stdin",
     "output_type": "stream",
     "text": [
      "select a operation from 1,2,3,4,5:  5\n",
      "Enter first number:  6\n",
      "Enter second number:  6\n"
     ]
    },
    {
     "name": "stdout",
     "output_type": "stream",
     "text": [
      "( 6 + 6 ) / 2 = 6.0\n"
     ]
    }
   ],
   "source": [
    "# Step 2: User Input\n",
    "print(\"Please select a operation:\\n \" \\\n",
    "      \"1. Addition\\n\" \\\n",
    "      \"2. Substraction\\n\" \\\n",
    "      \"3. Multiplication\\n\" \\\n",
    "      \"4. Division\\n\" \\\n",
    "      \"5. Average\\n\")\n",
    "\n",
    "select = int(input(\"select a operation from 1,2,3,4,5: \"))\n",
    "num1 = int(input(\"Enter first number: \"))\n",
    "num2 = int(input(\"Enter second number: \"))\n",
    "\n",
    "\n",
    "# Step 3: Print the Result\n",
    "if select == 1:\n",
    "    print(num1, \"+\", num2, \"=\", add(num1, num2))\n",
    "\n",
    "elif select == 2:\n",
    "    print(num1, \"-\", num2, \"=\", sub(num1, num2))\n",
    "    \n",
    "elif select == 3:\n",
    "    print(num1, \"*\", num2, \"=\", multiply(num1, num2))\n",
    "    \n",
    "elif select == 4:\n",
    "    print(num1, \"/\", num2, \"=\", divide(num1, num2))\n",
    "    \n",
    "elif select == 5:\n",
    "    print(\"(\", num1, \"+\", num2, \")\", \"/\", \"2\", \"=\", avg(num1, num2))\n",
    "\n",
    "else:\n",
    "    print(\"INVALID OPERATION!\")"
   ]
  },
  {
   "cell_type": "code",
   "execution_count": null,
   "id": "8762df8d-104a-4ea7-8b00-3733218a0044",
   "metadata": {},
   "outputs": [],
   "source": []
  }
 ],
 "metadata": {
  "kernelspec": {
   "display_name": "Python 3 (ipykernel)",
   "language": "python",
   "name": "python3"
  },
  "language_info": {
   "codemirror_mode": {
    "name": "ipython",
    "version": 3
   },
   "file_extension": ".py",
   "mimetype": "text/x-python",
   "name": "python",
   "nbconvert_exporter": "python",
   "pygments_lexer": "ipython3",
   "version": "3.12.4"
  }
 },
 "nbformat": 4,
 "nbformat_minor": 5
}
