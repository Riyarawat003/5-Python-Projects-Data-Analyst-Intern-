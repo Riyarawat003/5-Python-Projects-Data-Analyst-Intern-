{
 "cells": [
  {
   "cell_type": "code",
   "execution_count": 3,
   "id": "6b53f778-21e9-485d-b5c1-f313f5f27fcb",
   "metadata": {},
   "outputs": [],
   "source": [
    "# Project Title: Cafe Management System in Python\n",
    "# Cafe Name: Cafe Mocha Byte "
   ]
  },
  {
   "cell_type": "code",
   "execution_count": 7,
   "id": "5f896489-0490-41fa-9608-1bbe6638b546",
   "metadata": {},
   "outputs": [
    {
     "name": "stdout",
     "output_type": "stream",
     "text": [
      "\n",
      "---- Welcome to Cafe Mocha Byte ----\n",
      "Here's our menu for today:\n",
      "Espresso: Rs60\n",
      "Cappuccino: Rs90\n",
      "Latte: Rs100\n",
      "Green Tea: Rs50\n",
      "Cheese Sandwich: Rs80\n",
      "Veg Wrap: Rs85\n",
      "Chocolate Cake: Rs120\n",
      "Muffin: Rs60\n",
      "French Fries: Rs70\n",
      "Pasta: Rs110\n"
     ]
    },
    {
     "name": "stdin",
     "output_type": "stream",
     "text": [
      "\n",
      "Enter item name to order (or type 'done' to finish):  Latte\n",
      "Enter quantity for Latte:  1\n",
      "\n",
      "Enter item name to order (or type 'done' to finish):  done\n"
     ]
    },
    {
     "name": "stdout",
     "output_type": "stream",
     "text": [
      "\n",
      "---- RECEIPT ----\n",
      "Date: 2025-05-06 05:53:18\n",
      "-----------------\n",
      "Latte x 1 = ₹100\n",
      "-----------------\n",
      "Total Amount: ₹100\n",
      "-----------------\n",
      "Thank you for visiting Cafe Mocha Byte!\n"
     ]
    }
   ],
   "source": [
    "import datetime\n",
    "\n",
    "# Cafe name\n",
    "cafe_name = \"Cafe Mocha Byte\"\n",
    "\n",
    "# Menu items and prices\n",
    "menu = {\n",
    "    \"Espresso\": 60,\n",
    "    \"Cappuccino\": 90,\n",
    "    \"Latte\": 100,\n",
    "    \"Green Tea\": 50,\n",
    "    \"Cheese Sandwich\": 80,\n",
    "    \"Veg Wrap\": 85,\n",
    "    \"Chocolate Cake\": 120,\n",
    "    \"Muffin\": 60,\n",
    "    \"French Fries\": 70,\n",
    "    \"Pasta\": 110\n",
    "}\n",
    "\n",
    "# Function to display the menu\n",
    "def display_menu():\n",
    "    print(f\"\\n---- Welcome to {cafe_name} ----\")\n",
    "    print(\"Here's our menu for today:\")\n",
    "    for item, price in menu.items():\n",
    "        print(f\"{item}: Rs{price}\")\n",
    "\n",
    "# Function to take the customer's order\n",
    "def take_order():\n",
    "    order = {}\n",
    "    while True:\n",
    "        item = input(\"\\nEnter item name to order (or type 'done' to finish): \").title()\n",
    "        if item.lower() == 'done':\n",
    "            break\n",
    "        if item in menu:\n",
    "            try:\n",
    "                quantity = int(input(f\"Enter quantity for {item}: \"))\n",
    "                if quantity > 0:\n",
    "                    order[item] = order.get(item, 0) + quantity\n",
    "                else:\n",
    "                    print(\"Please enter a valid quantity.\")\n",
    "            except ValueError:\n",
    "                print(\"Invalid input! Quantity must be a number.\")\n",
    "        else:\n",
    "            print(\"Item not on the menu.\")\n",
    "    return order\n",
    "\n",
    "# Function to calculate the bill\n",
    "def calculate_bill(order):\n",
    "    total = 0\n",
    "    for item, quantity in order.items():\n",
    "        total += menu[item] * quantity\n",
    "    return total\n",
    "\n",
    "# Function to generate a receipt\n",
    "def generate_receipt(order, total):\n",
    "    print(\"\\n---- RECEIPT ----\")\n",
    "    now = datetime.datetime.now()\n",
    "    print(\"Date:\", now.strftime(\"%Y-%m-%d %H:%M:%S\"))\n",
    "    print(\"-----------------\")\n",
    "    for item, quantity in order.items():\n",
    "        print(f\"{item} x {quantity} = ₹{menu[item]*quantity}\")\n",
    "    print(\"-----------------\")\n",
    "    print(f\"Total Amount: ₹{total}\")\n",
    "    print(\"-----------------\")\n",
    "    print(f\"Thank you for visiting {cafe_name}!\")\n",
    "\n",
    "# Function to save daily sales\n",
    "def save_to_file(order, total):\n",
    "    with open(\"daily_sales.txt\", \"a\") as f:\n",
    "        now = datetime.datetime.now()\n",
    "        f.write(f\"\\nDate: {now.strftime('%Y-%m-%d %H:%M:%S')}\\n\")\n",
    "        for item, quantity in order.items():\n",
    "            f.write(f\"{item} x {quantity} = Rs{menu[item]*quantity}\\n\")\n",
    "        f.write(f\"Total: Rs{total}\\n\")\n",
    "        f.write(\"-\" * 30)\n",
    "\n",
    "# Main program\n",
    "def main():\n",
    "    display_menu()\n",
    "    order = take_order()\n",
    "    if order:\n",
    "        total = calculate_bill(order)\n",
    "        generate_receipt(order, total)\n",
    "        save_to_file(order, total)\n",
    "    else:\n",
    "        print(\"No order was made.\")\n",
    "\n",
    "if __name__ == \"__main__\":\n",
    "    main()"
   ]
  },
  {
   "cell_type": "code",
   "execution_count": null,
   "id": "d9481c9b-2abb-4127-b1f8-ffbbeff14451",
   "metadata": {},
   "outputs": [],
   "source": []
  },
  {
   "cell_type": "code",
   "execution_count": null,
   "id": "417d8cec-070e-493b-b7bf-48885aa8bf64",
   "metadata": {},
   "outputs": [],
   "source": []
  }
 ],
 "metadata": {
  "kernelspec": {
   "display_name": "Python 3 (ipykernel)",
   "language": "python",
   "name": "python3"
  },
  "language_info": {
   "codemirror_mode": {
    "name": "ipython",
    "version": 3
   },
   "file_extension": ".py",
   "mimetype": "text/x-python",
   "name": "python",
   "nbconvert_exporter": "python",
   "pygments_lexer": "ipython3",
   "version": "3.12.4"
  }
 },
 "nbformat": 4,
 "nbformat_minor": 5
}
