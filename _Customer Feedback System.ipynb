{
 "cells": [
  {
   "cell_type": "code",
   "execution_count": 1,
   "id": "93f524bd-1238-4512-be59-9a80b040be3e",
   "metadata": {},
   "outputs": [],
   "source": [
    "# Project Title: Simple Customer Feedback System"
   ]
  },
  {
   "cell_type": "code",
   "execution_count": 2,
   "id": "6372d2fa-34f0-4f20-a6c1-77a849c7448c",
   "metadata": {},
   "outputs": [
    {
     "name": "stdout",
     "output_type": "stream",
     "text": [
      "\n",
      "------ Customer Feedback System ------\n",
      "1. Submit Feedback\n",
      "2. View Average Feedback Score\n",
      "3. View Total Feedback Submissions\n",
      "4. Exit\n"
     ]
    },
    {
     "name": "stdin",
     "output_type": "stream",
     "text": [
      "Select an option (1-4):  2\n"
     ]
    },
    {
     "name": "stdout",
     "output_type": "stream",
     "text": [
      "No feedback submitted yet.\n",
      "\n",
      "------ Customer Feedback System ------\n",
      "1. Submit Feedback\n",
      "2. View Average Feedback Score\n",
      "3. View Total Feedback Submissions\n",
      "4. Exit\n"
     ]
    },
    {
     "name": "stdin",
     "output_type": "stream",
     "text": [
      "Select an option (1-4):  1\n",
      "Please rate our service from 1 to 5 (1 = Poor, 5 = Excellent):  5\n"
     ]
    },
    {
     "name": "stdout",
     "output_type": "stream",
     "text": [
      "Thank you for your feedback!\n",
      "\n",
      "------ Customer Feedback System ------\n",
      "1. Submit Feedback\n",
      "2. View Average Feedback Score\n",
      "3. View Total Feedback Submissions\n",
      "4. Exit\n"
     ]
    },
    {
     "name": "stdin",
     "output_type": "stream",
     "text": [
      "Select an option (1-4):  4\n"
     ]
    },
    {
     "name": "stdout",
     "output_type": "stream",
     "text": [
      "Thank you for using the Customer Feedback System!\n"
     ]
    }
   ],
   "source": [
    "# Simple Customer Feedback System\n",
    "\n",
    "# Initialize an empty list to store feedback ratings\n",
    "feedback_ratings = []\n",
    "\n",
    "# Function to submit feedback\n",
    "def submit_feedback():\n",
    "    try:\n",
    "        rating = int(input(\"Please rate our service from 1 to 5 (1 = Poor, 5 = Excellent): \"))\n",
    "        if 1 <= rating <= 5:\n",
    "            feedback_ratings.append(rating)\n",
    "            print(\"Thank you for your feedback!\")\n",
    "        else:\n",
    "            print(\"Invalid input! Please enter a number between 1 and 5.\")\n",
    "    except ValueError:\n",
    "        print(\"Invalid input! Please enter a numeric value.\")\n",
    "\n",
    "# Function to view average feedback score\n",
    "def view_average_feedback():\n",
    "    if feedback_ratings:\n",
    "        average = sum(feedback_ratings) / len(feedback_ratings)\n",
    "        print(f\"\\nAverage Feedback Score: {round(average, 2)}\")\n",
    "    else:\n",
    "        print(\"No feedback submitted yet.\")\n",
    "\n",
    "# Function to view the number of feedback submissions\n",
    "def view_feedback_count():\n",
    "    print(f\"\\nTotal Feedback Submissions: {len(feedback_ratings)}\")\n",
    "\n",
    "# Main menu function\n",
    "def main():\n",
    "    while True:\n",
    "        print(\"\\n------ Customer Feedback System ------\")\n",
    "        print(\"1. Submit Feedback\")\n",
    "        print(\"2. View Average Feedback Score\")\n",
    "        print(\"3. View Total Feedback Submissions\")\n",
    "        print(\"4. Exit\")\n",
    "        choice = input(\"Select an option (1-4): \")\n",
    "\n",
    "        if choice == \"1\":\n",
    "            submit_feedback()\n",
    "        elif choice == \"2\":\n",
    "            view_average_feedback()\n",
    "        elif choice == \"3\":\n",
    "            view_feedback_count()\n",
    "        elif choice == \"4\":\n",
    "            print(\"Thank you for using the Customer Feedback System!\")\n",
    "            break\n",
    "        else:\n",
    "            print(\"Invalid choice. Please try again.\")\n",
    "\n",
    "# Start the program\n",
    "if __name__ == \"__main__\":\n",
    "    main()"
   ]
  },
  {
   "cell_type": "code",
   "execution_count": null,
   "id": "2ac6b950-8721-4b0e-a46a-d571702070ed",
   "metadata": {},
   "outputs": [],
   "source": []
  }
 ],
 "metadata": {
  "kernelspec": {
   "display_name": "Python 3 (ipykernel)",
   "language": "python",
   "name": "python3"
  },
  "language_info": {
   "codemirror_mode": {
    "name": "ipython",
    "version": 3
   },
   "file_extension": ".py",
   "mimetype": "text/x-python",
   "name": "python",
   "nbconvert_exporter": "python",
   "pygments_lexer": "ipython3",
   "version": "3.12.4"
  }
 },
 "nbformat": 4,
 "nbformat_minor": 5
}
